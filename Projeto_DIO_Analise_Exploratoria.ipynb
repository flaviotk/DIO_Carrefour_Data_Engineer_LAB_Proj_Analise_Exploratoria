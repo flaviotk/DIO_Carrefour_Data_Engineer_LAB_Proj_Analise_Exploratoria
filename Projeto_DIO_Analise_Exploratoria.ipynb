{
  "nbformat": 4,
  "nbformat_minor": 0,
  "metadata": {
    "colab": {
      "name": "Projeto_DIO_Analise_Exploratoria.ipynb",
      "provenance": [],
      "collapsed_sections": []
    },
    "kernelspec": {
      "name": "python3",
      "display_name": "Python 3"
    },
    "language_info": {
      "name": "python"
    }
  },
  "cells": [
    {
      "cell_type": "markdown",
      "metadata": {
        "id": "_ug5eyhSPv2Q"
      },
      "source": [
        "<p><img alt=\"Colaboratory logo\" height=\"93px\" src=\"https://image.flaticon.com/icons/png/512/1998/1998557.png\" align=\"left\" hspace=\"10px\" vspace=\"0px\"></p>\n",
        "\n",
        "<h1>Projeto DIO - Análise de dados com Python e Pandas</h1><br>\n",
        "<h3><b>Análise dos Docentes da Rede Estadual de Ensino do Estado de São Paulo</b></h3>\n",
        "<h5><b>Desenvolvido por Flavio Tokuo</b></h5>\n",
        "\n",
        "Para este estudo foi utilizada a base de dados de docentes por categoria funcional, referente ao contingente da Rede Estadual de Ensino do Estado de São Paulo de dezembro de 2017, disponibilizada no site <a href=\"https://dados.educacao.sp.gov.br/\">Dados Abertos da Educação</a>. \n",
        "\n",
        "<b>Endereços de Acesso:</b>\n",
        "- https://dados.educacao.sp.gov.br/\n",
        "- https://dados.educacao.sp.gov.br/dataset/quantidade-de-docentes-por-categoria-funcional\n",
        "\n",
        "<b>Arquivo</b>: 3.1-Total_Docentes_Cargo Exercício x Categoria_1217n.csv\n"
      ]
    },
    {
      "cell_type": "markdown",
      "metadata": {
        "id": "NzT910wdUWRa"
      },
      "source": [
        "<hr size=\"3\" width=\"100%\" color=\"gray\">\n",
        "<hr size=\"1\" width=\"100%\" color=\"gray\">\n",
        "<hr size=\"3\" width=\"100%\" color=\"gray\">  \n",
        "<h3><b>Etapa Inicial - Carregamento de Bibliotecas e Arquivo CSV.</b></h3>"
      ]
    },
    {
      "cell_type": "code",
      "metadata": {
        "id": "O4MjSRYLGtN4"
      },
      "source": [
        "#Importando as bibliotecas\n",
        "import pandas as pd\n",
        "import matplotlib.pyplot as plt\n",
        "plt.style.use(\"seaborn\")\n",
        "import numpy"
      ],
      "execution_count": 200,
      "outputs": []
    },
    {
      "cell_type": "code",
      "metadata": {
        "colab": {
          "resources": {
            "http://localhost:8080/nbextensions/google.colab/files.js": {
              "data": "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",
              "ok": true,
              "headers": [
                [
                  "content-type",
                  "application/javascript"
                ]
              ],
              "status": 200,
              "status_text": ""
            }
          },
          "base_uri": "https://localhost:8080/",
          "height": 73
        },
        "id": "fzEmxGqNG9xU",
        "outputId": "4e58139a-e31f-4ec1-e20d-1e3d94fa5cc3"
      },
      "source": [
        "#Upload do arquivo\n",
        "from google.colab import files\n",
        "arq = files.upload()"
      ],
      "execution_count": 201,
      "outputs": [
        {
          "output_type": "display_data",
          "data": {
            "text/html": [
              "\n",
              "     <input type=\"file\" id=\"files-17aca40d-a557-496c-9036-a64c7c60ec0a\" name=\"files[]\" multiple disabled\n",
              "        style=\"border:none\" />\n",
              "     <output id=\"result-17aca40d-a557-496c-9036-a64c7c60ec0a\">\n",
              "      Upload widget is only available when the cell has been executed in the\n",
              "      current browser session. Please rerun this cell to enable.\n",
              "      </output>\n",
              "      <script src=\"/nbextensions/google.colab/files.js\"></script> "
            ],
            "text/plain": [
              "<IPython.core.display.HTML object>"
            ]
          },
          "metadata": {}
        },
        {
          "output_type": "stream",
          "text": [
            "Saving 3.1-Total_Docentes_Cargo Exercício x Categoria_1217n.csv to 3.1-Total_Docentes_Cargo Exercício x Categoria_1217n (3).csv\n"
          ],
          "name": "stdout"
        }
      ]
    },
    {
      "cell_type": "code",
      "metadata": {
        "id": "z_zv_AQaH7xO"
      },
      "source": [
        "df = pd.read_csv(\"3.1-Total_Docentes_Cargo Exercício x Categoria_1217n.csv\", \n",
        "                 sep=\",\", \n",
        "                 header=None,\n",
        "                 encoding='cp1250',\n",
        "                 decimal=\",\",\n",
        "                 skiprows=1) #error_bad_lines=False,"
      ],
      "execution_count": 202,
      "outputs": []
    },
    {
      "cell_type": "code",
      "metadata": {
        "id": "44Y6sI7xj7gt"
      },
      "source": [
        "# df.head(10)"
      ],
      "execution_count": 203,
      "outputs": []
    },
    {
      "cell_type": "markdown",
      "metadata": {
        "id": "LdxWiCeGVepf"
      },
      "source": [
        "<h3><b>Ajustes, Limpeza e Transformações</b></h3>"
      ]
    },
    {
      "cell_type": "code",
      "metadata": {
        "id": "vEOPW3E0i3J1"
      },
      "source": [
        "# Subustituição de caractere \"ponto\" para não distorcer valor dos campos na conversão para numérico\n",
        "df[6] = df[6].str.replace('.','')\n",
        "df[8] = df[8].str.replace('.','')\n",
        "df[12] = df[12].str.replace('.','')\n",
        "df[16] = df[16].str.replace('.','')\n",
        "df[18] = df[18].str.replace('.','')\n",
        "df[22] = df[22].str.replace('.','')"
      ],
      "execution_count": 204,
      "outputs": []
    },
    {
      "cell_type": "code",
      "metadata": {
        "id": "4aTFz8YvIuA1"
      },
      "source": [
        "# df.shape\n",
        "# df.head()\n",
        "# df.dtypes"
      ],
      "execution_count": 205,
      "outputs": []
    },
    {
      "cell_type": "code",
      "metadata": {
        "id": "eNS2Wwz1b1--"
      },
      "source": [
        "# Limpeza e Ajustes adicionais do Dataframe\n",
        "df.drop(df.columns[[23, 24, 25]], axis = 1, inplace = True)\n",
        "df.replace(to_replace =\" -   \", value =\"0\", inplace=True)\n",
        "df.fillna(0, inplace=True)"
      ],
      "execution_count": 206,
      "outputs": []
    },
    {
      "cell_type": "code",
      "metadata": {
        "id": "n1JnYKp4aan7"
      },
      "source": [
        "df[[2,3,4,5,6,7,8,9,10,11,12,13,14,15,16,17,18,19,20,21,22]] = \\\n",
        "df[[2,3,4,5,6,7,8,9,10,11,12,13,14,15,16,17,18,19,20,21,22]].apply(pd.to_numeric)"
      ],
      "execution_count": 207,
      "outputs": []
    },
    {
      "cell_type": "code",
      "metadata": {
        "id": "677v0OnTX54_"
      },
      "source": [
        "# df.dtypes\n",
        "# df.head()"
      ],
      "execution_count": 208,
      "outputs": []
    },
    {
      "cell_type": "code",
      "metadata": {
        "id": "j4X7O2DsI65M"
      },
      "source": [
        "# Aplicando nomes às colunas do Dataframe\n",
        "df = df.rename(columns=\n",
        "     { 0 : \"REGIAO\",\n",
        "       1 : \"DIRETORIA_ENSINO\",\n",
        "       2 : \"PEBI_6407_EFET\",\n",
        "       3 : \"PEBI_6407_CAT_F\",\n",
        "       4 : \"PEBI_6407_ESTVL\",\n",
        "       5 : \"PEBI_6407_CAT_L\",\n",
        "       6 : \"PEBI_6407_TOT_PER\",\n",
        "       7 : \"PEBI_6407_TOT_TMP\",\n",
        "       8 : \"PEBI_6407_TOTAL\",\n",
        "       9 : \"PEBI_6407_AULA_CAT_F\",\n",
        "      10 : \"PEBI_6407_AULA_TMP\",\n",
        "      11 : \"PEBI_6407_AULA_TOTAL\",\n",
        "      12 : \"PEBII_6409_EFET\",\n",
        "      13 : \"PEBII_6409_CAT_F\",\n",
        "      14 : \"PEBII_6409_EST\",\n",
        "      15 : \"PEBII_6409_CLT\",\n",
        "      16 : \"PEBII_6409_TOT_PER\",\n",
        "      17 : \"PEBII_6409_TOT_TMP\",\n",
        "      18 : \"PEBII_6409_TOTAL\",\n",
        "      19 : \"PROFII_6408_CAT_F\",\n",
        "      20 : \"PROFII_6408_ESTVL\",\n",
        "      21 : \"PROFII_6408_TOTAL\",\n",
        "      22 : \"TOTAL_DOC\"})"
      ],
      "execution_count": 209,
      "outputs": []
    },
    {
      "cell_type": "code",
      "metadata": {
        "id": "o7FZHYfR6o_l"
      },
      "source": [
        "# Exclusão de linhas sem informação\n",
        "df = df.loc[df.REGIAO != 0]"
      ],
      "execution_count": 210,
      "outputs": []
    },
    {
      "cell_type": "code",
      "metadata": {
        "id": "wjAjbgqD666l"
      },
      "source": [
        "# df.head()"
      ],
      "execution_count": 211,
      "outputs": []
    },
    {
      "cell_type": "code",
      "metadata": {
        "id": "gWrFAFPSZQej",
        "colab": {
          "base_uri": "https://localhost:8080/"
        },
        "outputId": "fe82c1a3-e9db-480d-b98a-73c706319a39"
      },
      "source": [
        "df.shape\n",
        "# df.head(15)\n",
        "# df.dtypes"
      ],
      "execution_count": 212,
      "outputs": [
        {
          "output_type": "execute_result",
          "data": {
            "text/plain": [
              "(99, 23)"
            ]
          },
          "metadata": {},
          "execution_count": 212
        }
      ]
    },
    {
      "cell_type": "code",
      "metadata": {
        "id": "G8zgLdyQ8tPT"
      },
      "source": [
        "# Criação de Campo ZONA_CAPITAL para agrupar Cidades em Regiões da Capital de São Paulo\n",
        "df['ZONA_CAPITAL'] = 'FORA DA CAPITAL'\n",
        "df.loc[df['DIRETORIA_ENSINO'].str.strip().isin(['D.E.REG. CENTRO', \n",
        "                                                'D.E.REG. CENTRO OESTE',\n",
        "                                                'D.E.REG. CENTRO SUL']), 'ZONA_CAPITAL'] = 'CENTRO'\n",
        "df.loc[df['DIRETORIA_ENSINO'].str.strip().isin(['D.E.REG. LESTE 1', \n",
        "                                                'D.E.REG. LESTE 2',\n",
        "                                                'D.E.REG. LESTE 3',\n",
        "                                                'D.E.REG. LESTE 4',\n",
        "                                                'D.E.REG. LESTE 5']), 'ZONA_CAPITAL'] = 'LESTE'\n",
        "df.loc[df['DIRETORIA_ENSINO'].str.strip().isin(['D.E.REG. NORTE 1', \n",
        "                                                'D.E.REG. NORTE 2']), 'ZONA_CAPITAL'] = 'NORTE'\n",
        "df.loc[df['DIRETORIA_ENSINO'].str.strip().isin(['D.E.REG. SUL 1', \n",
        "                                                'D.E.REG. SUL 2',\n",
        "                                                'D.E.REG. SUL 3']), 'ZONA_CAPITAL'] = 'SUL'"
      ],
      "execution_count": 213,
      "outputs": []
    },
    {
      "cell_type": "code",
      "metadata": {
        "id": "cnBfWtmiIjqH"
      },
      "source": [
        "# Criação de Campos de Cargos não Efetivos\n",
        "df['PEBI_6407_NAO_EFET'] = df[\"PEBI_6407_CAT_F\"] + df[\"PEBI_6407_ESTVL\"] + df[\"PEBI_6407_CAT_L\"]\n",
        "df['PEBII_6409_NAO_EFET'] = df[\"PEBII_6409_CAT_F\"] + df[\"PEBII_6409_EST\"] + df[\"PEBII_6409_CLT\"]"
      ],
      "execution_count": 214,
      "outputs": []
    },
    {
      "cell_type": "markdown",
      "metadata": {
        "id": "RIXznURAV4EH"
      },
      "source": [
        "<h3><b>Análises Diversas sobre a base de Contingente Funcional da Rede Estadual de Ensino de São Paulo</b></h3>"
      ]
    },
    {
      "cell_type": "code",
      "metadata": {
        "colab": {
          "base_uri": "https://localhost:8080/"
        },
        "id": "siPT7TsfWSYG",
        "outputId": "5478911a-94aa-4db5-af3e-9478bbed0a4f"
      },
      "source": [
        "# Verificando o número Total de Docentes (Validação de Limpezas, Ajustes e Transformações)\n",
        "df[[\"PEBI_6407_TOTAL\", \"PEBI_6407_AULA_TOTAL\", \n",
        "    \"PEBII_6409_TOTAL\", \"PROFII_6408_TOTAL\", \"TOTAL_DOC\"]].sum()"
      ],
      "execution_count": 215,
      "outputs": [
        {
          "output_type": "execute_result",
          "data": {
            "text/plain": [
              "PEBI_6407_TOTAL          32295\n",
              "PEBI_6407_AULA_TOTAL      9692\n",
              "PEBII_6409_TOTAL        153243\n",
              "PROFII_6408_TOTAL           22\n",
              "TOTAL_DOC               195252\n",
              "dtype: int64"
            ]
          },
          "metadata": {},
          "execution_count": 215
        }
      ]
    },
    {
      "cell_type": "code",
      "metadata": {
        "id": "xcig0VOGmZuG",
        "colab": {
          "base_uri": "https://localhost:8080/"
        },
        "outputId": "ecd0515c-7fcc-47cf-aa9c-8f0be752f752"
      },
      "source": [
        "# Maior quantidade de docentes em uma Região\n",
        "df[\"TOTAL_DOC\"].max()"
      ],
      "execution_count": 216,
      "outputs": [
        {
          "output_type": "execute_result",
          "data": {
            "text/plain": [
              "5110"
            ]
          },
          "metadata": {},
          "execution_count": 216
        }
      ]
    },
    {
      "cell_type": "code",
      "metadata": {
        "colab": {
          "base_uri": "https://localhost:8080/"
        },
        "id": "HhViKcuMO2y8",
        "outputId": "a88032b7-f884-4192-bcb7-1e00b519a392"
      },
      "source": [
        "# Menor quantidade de docentes em uma Região\n",
        "df[\"TOTAL_DOC\"].min()"
      ],
      "execution_count": 217,
      "outputs": [
        {
          "output_type": "execute_result",
          "data": {
            "text/plain": [
              "1"
            ]
          },
          "metadata": {},
          "execution_count": 217
        }
      ]
    },
    {
      "cell_type": "code",
      "metadata": {
        "colab": {
          "base_uri": "https://localhost:8080/",
          "height": 173
        },
        "id": "-7koEj2j5IcZ",
        "outputId": "ee3033bf-412a-4757-948e-90d95a9f7dee"
      },
      "source": [
        "# Quantidade de Docentes da Rede Estadual de Ensino Distribuídos em todo o Estado de São Paulo\n",
        "df_doc_estado = df.groupby([\"REGIAO\"]) \\\n",
        "      [[\"PEBI_6407_TOTAL\", \"PEBI_6407_AULA_TOTAL\", \"PEBII_6409_TOTAL\", \"PROFII_6408_TOTAL\", \"TOTAL_DOC\"]].sum().reset_index()\n",
        "df_doc_estado.head()"
      ],
      "execution_count": 218,
      "outputs": [
        {
          "output_type": "execute_result",
          "data": {
            "text/html": [
              "<div>\n",
              "<style scoped>\n",
              "    .dataframe tbody tr th:only-of-type {\n",
              "        vertical-align: middle;\n",
              "    }\n",
              "\n",
              "    .dataframe tbody tr th {\n",
              "        vertical-align: top;\n",
              "    }\n",
              "\n",
              "    .dataframe thead th {\n",
              "        text-align: right;\n",
              "    }\n",
              "</style>\n",
              "<table border=\"1\" class=\"dataframe\">\n",
              "  <thead>\n",
              "    <tr style=\"text-align: right;\">\n",
              "      <th></th>\n",
              "      <th>REGIAO</th>\n",
              "      <th>PEBI_6407_TOTAL</th>\n",
              "      <th>PEBI_6407_AULA_TOTAL</th>\n",
              "      <th>PEBII_6409_TOTAL</th>\n",
              "      <th>PROFII_6408_TOTAL</th>\n",
              "      <th>TOTAL_DOC</th>\n",
              "    </tr>\n",
              "  </thead>\n",
              "  <tbody>\n",
              "    <tr>\n",
              "      <th>0</th>\n",
              "      <td>CAPITAL</td>\n",
              "      <td>14055</td>\n",
              "      <td>1613</td>\n",
              "      <td>35783</td>\n",
              "      <td>5</td>\n",
              "      <td>51456</td>\n",
              "    </tr>\n",
              "    <tr>\n",
              "      <th>1</th>\n",
              "      <td>GDE_SP</td>\n",
              "      <td>6226</td>\n",
              "      <td>2138</td>\n",
              "      <td>37260</td>\n",
              "      <td>4</td>\n",
              "      <td>45628</td>\n",
              "    </tr>\n",
              "    <tr>\n",
              "      <th>2</th>\n",
              "      <td>INTERIOR</td>\n",
              "      <td>12006</td>\n",
              "      <td>5941</td>\n",
              "      <td>80115</td>\n",
              "      <td>13</td>\n",
              "      <td>98075</td>\n",
              "    </tr>\n",
              "    <tr>\n",
              "      <th>3</th>\n",
              "      <td>O_CENTRAL</td>\n",
              "      <td>8</td>\n",
              "      <td>0</td>\n",
              "      <td>85</td>\n",
              "      <td>0</td>\n",
              "      <td>93</td>\n",
              "    </tr>\n",
              "  </tbody>\n",
              "</table>\n",
              "</div>"
            ],
            "text/plain": [
              "          REGIAO  PEBI_6407_TOTAL  ...  PROFII_6408_TOTAL  TOTAL_DOC\n",
              "0  CAPITAL                  14055  ...                  5      51456\n",
              "1  GDE_SP                    6226  ...                  4      45628\n",
              "2  INTERIOR                 12006  ...                 13      98075\n",
              "3  O_CENTRAL                    8  ...                  0         93\n",
              "\n",
              "[4 rows x 6 columns]"
            ]
          },
          "metadata": {},
          "execution_count": 218
        }
      ]
    },
    {
      "cell_type": "code",
      "metadata": {
        "colab": {
          "base_uri": "https://localhost:8080/",
          "height": 162
        },
        "id": "zFWuuNYETZME",
        "outputId": "56167981-3061-488a-f405-c26f062bba1e"
      },
      "source": [
        "# Quantidade de Docentes Efetivos, Não Efetivos e Temporários da Rede Estadual de Ensino no Estado de SP (Desconsiderado Órgãos Centrais)\n",
        "df_doc_categ_estado = df.loc[df.REGIAO.str.strip() != \"O_CENTRAL\"] \\\n",
        "      .groupby([\"REGIAO\"]) \\\n",
        "      [[\"PEBI_6407_EFET\", \"PEBI_6407_NAO_EFET\", \"PEBI_6407_TOT_TMP\", \"PEBI_6407_AULA_TOTAL\", \n",
        "        \"PEBII_6409_EFET\", \"PEBII_6409_NAO_EFET\", \"PEBII_6409_TOT_TMP\", \"PROFII_6408_TOTAL\", \"TOTAL_DOC\"]].sum().reset_index()\n",
        "\n",
        "df_doc_categ_estado = df_doc_categ_estado.rename(columns=\n",
        "     {      \"PEBI_6407_EFET\" : \"PEBI_6407_EFETIVO\",\n",
        "        \"PEBI_6407_NAO_EFET\" : \"PEBI_6407_NAO_EFETIVO\",\n",
        "         \"PEBI_6407_TOT_TMP\" : \"PEBI_6407_TEMPORARIO\",\n",
        "      \"PEBI_6407_AULA_TOTAL\" : \"PEBI_6407_AULA\",\n",
        "           \"PEBII_6409_EFET\" : \"PEBII_6409_EFETIVO\",\n",
        "       \"PEBII_6409_NAO_EFET\" : \"PEBII_6409_NAO_EFETIVO\",\n",
        "        \"PEBII_6409_TOT_TMP\" : \"PEBII_6409_TEMPORARIO\",\n",
        "         \"PROFII_6408_TOTAL\" : \"PROFII_6408\",\n",
        "                 \"TOTAL_DOC\" : \"TOTAL_DOCENTES\"\n",
        "     })\n",
        "df_doc_categ_estado.head(15)"
      ],
      "execution_count": 219,
      "outputs": [
        {
          "output_type": "execute_result",
          "data": {
            "text/html": [
              "<div>\n",
              "<style scoped>\n",
              "    .dataframe tbody tr th:only-of-type {\n",
              "        vertical-align: middle;\n",
              "    }\n",
              "\n",
              "    .dataframe tbody tr th {\n",
              "        vertical-align: top;\n",
              "    }\n",
              "\n",
              "    .dataframe thead th {\n",
              "        text-align: right;\n",
              "    }\n",
              "</style>\n",
              "<table border=\"1\" class=\"dataframe\">\n",
              "  <thead>\n",
              "    <tr style=\"text-align: right;\">\n",
              "      <th></th>\n",
              "      <th>REGIAO</th>\n",
              "      <th>PEBI_6407_EFETIVO</th>\n",
              "      <th>PEBI_6407_NAO_EFETIVO</th>\n",
              "      <th>PEBI_6407_TEMPORARIO</th>\n",
              "      <th>PEBI_6407_AULA</th>\n",
              "      <th>PEBII_6409_EFETIVO</th>\n",
              "      <th>PEBII_6409_NAO_EFETIVO</th>\n",
              "      <th>PEBII_6409_TEMPORARIO</th>\n",
              "      <th>PROFII_6408</th>\n",
              "      <th>TOTAL_DOCENTES</th>\n",
              "    </tr>\n",
              "  </thead>\n",
              "  <tbody>\n",
              "    <tr>\n",
              "      <th>0</th>\n",
              "      <td>CAPITAL</td>\n",
              "      <td>6749</td>\n",
              "      <td>4102</td>\n",
              "      <td>3204</td>\n",
              "      <td>1613</td>\n",
              "      <td>26220</td>\n",
              "      <td>7005</td>\n",
              "      <td>2558</td>\n",
              "      <td>5</td>\n",
              "      <td>51456</td>\n",
              "    </tr>\n",
              "    <tr>\n",
              "      <th>1</th>\n",
              "      <td>GDE_SP</td>\n",
              "      <td>3350</td>\n",
              "      <td>1741</td>\n",
              "      <td>1135</td>\n",
              "      <td>2138</td>\n",
              "      <td>27158</td>\n",
              "      <td>7867</td>\n",
              "      <td>2235</td>\n",
              "      <td>4</td>\n",
              "      <td>45628</td>\n",
              "    </tr>\n",
              "    <tr>\n",
              "      <th>2</th>\n",
              "      <td>INTERIOR</td>\n",
              "      <td>6522</td>\n",
              "      <td>2754</td>\n",
              "      <td>2730</td>\n",
              "      <td>5941</td>\n",
              "      <td>57101</td>\n",
              "      <td>15575</td>\n",
              "      <td>7439</td>\n",
              "      <td>13</td>\n",
              "      <td>98075</td>\n",
              "    </tr>\n",
              "  </tbody>\n",
              "</table>\n",
              "</div>"
            ],
            "text/plain": [
              "          REGIAO  PEBI_6407_EFETIVO  ...  PROFII_6408  TOTAL_DOCENTES\n",
              "0  CAPITAL                     6749  ...            5           51456\n",
              "1  GDE_SP                      3350  ...            4           45628\n",
              "2  INTERIOR                    6522  ...           13           98075\n",
              "\n",
              "[3 rows x 10 columns]"
            ]
          },
          "metadata": {},
          "execution_count": 219
        }
      ]
    },
    {
      "cell_type": "code",
      "metadata": {
        "id": "AN0aXMSB2KF5",
        "colab": {
          "base_uri": "https://localhost:8080/",
          "height": 173
        },
        "outputId": "d1f3b496-7fb8-4868-8989-9c4f593d778f"
      },
      "source": [
        "# Quantidade de Docentes da Rede Estadual de Ensino por Regiões da Capital de São Paulo\n",
        "df_doc_reg_capital = df.loc[df.ZONA_CAPITAL != \"FORA DA CAPITAL\"] \\\n",
        "      .groupby([\"ZONA_CAPITAL\"]) \\\n",
        "      [[\"PEBI_6407_TOTAL\", \"PEBI_6407_AULA_TOTAL\", \"PEBII_6409_TOTAL\", \"PROFII_6408_TOTAL\", \"TOTAL_DOC\"]].sum().reset_index()\n",
        "df_doc_reg_capital.head()"
      ],
      "execution_count": 220,
      "outputs": [
        {
          "output_type": "execute_result",
          "data": {
            "text/html": [
              "<div>\n",
              "<style scoped>\n",
              "    .dataframe tbody tr th:only-of-type {\n",
              "        vertical-align: middle;\n",
              "    }\n",
              "\n",
              "    .dataframe tbody tr th {\n",
              "        vertical-align: top;\n",
              "    }\n",
              "\n",
              "    .dataframe thead th {\n",
              "        text-align: right;\n",
              "    }\n",
              "</style>\n",
              "<table border=\"1\" class=\"dataframe\">\n",
              "  <thead>\n",
              "    <tr style=\"text-align: right;\">\n",
              "      <th></th>\n",
              "      <th>ZONA_CAPITAL</th>\n",
              "      <th>PEBI_6407_TOTAL</th>\n",
              "      <th>PEBI_6407_AULA_TOTAL</th>\n",
              "      <th>PEBII_6409_TOTAL</th>\n",
              "      <th>PROFII_6408_TOTAL</th>\n",
              "      <th>TOTAL_DOC</th>\n",
              "    </tr>\n",
              "  </thead>\n",
              "  <tbody>\n",
              "    <tr>\n",
              "      <th>0</th>\n",
              "      <td>CENTRO</td>\n",
              "      <td>2350</td>\n",
              "      <td>287</td>\n",
              "      <td>5912</td>\n",
              "      <td>1</td>\n",
              "      <td>8550</td>\n",
              "    </tr>\n",
              "    <tr>\n",
              "      <th>1</th>\n",
              "      <td>LESTE</td>\n",
              "      <td>5333</td>\n",
              "      <td>471</td>\n",
              "      <td>14320</td>\n",
              "      <td>3</td>\n",
              "      <td>20127</td>\n",
              "    </tr>\n",
              "    <tr>\n",
              "      <th>2</th>\n",
              "      <td>NORTE</td>\n",
              "      <td>2198</td>\n",
              "      <td>312</td>\n",
              "      <td>5521</td>\n",
              "      <td>1</td>\n",
              "      <td>8032</td>\n",
              "    </tr>\n",
              "    <tr>\n",
              "      <th>3</th>\n",
              "      <td>SUL</td>\n",
              "      <td>4174</td>\n",
              "      <td>543</td>\n",
              "      <td>10030</td>\n",
              "      <td>0</td>\n",
              "      <td>14747</td>\n",
              "    </tr>\n",
              "  </tbody>\n",
              "</table>\n",
              "</div>"
            ],
            "text/plain": [
              "  ZONA_CAPITAL  PEBI_6407_TOTAL  ...  PROFII_6408_TOTAL  TOTAL_DOC\n",
              "0       CENTRO             2350  ...                  1       8550\n",
              "1        LESTE             5333  ...                  3      20127\n",
              "2        NORTE             2198  ...                  1       8032\n",
              "3          SUL             4174  ...                  0      14747\n",
              "\n",
              "[4 rows x 6 columns]"
            ]
          },
          "metadata": {},
          "execution_count": 220
        }
      ]
    },
    {
      "cell_type": "markdown",
      "metadata": {
        "id": "jrRbzF2pV-mk"
      },
      "source": [
        "<h3><b>Apresentação gráfica das Análises Efetuadas</b></h3>"
      ]
    },
    {
      "cell_type": "code",
      "metadata": {
        "colab": {
          "base_uri": "https://localhost:8080/",
          "height": 362
        },
        "id": "ydr6CaqZ6diE",
        "outputId": "dfa9fc89-8f05-4b58-df53-4c1d4a7129f9"
      },
      "source": [
        "# Docentes da Rede Estadual de Ensino por Regiões do Estado de SP\n",
        "df_doc_estado.plot.barh(x=\"REGIAO\", y=[\"PEBI_6407_TOTAL\", \"PEBI_6407_AULA_TOTAL\", \"PEBII_6409_TOTAL\"], \n",
        "                        title=\"Docentes da Rede Estadual de Ensino por Regiões do Estado de SP\");"
      ],
      "execution_count": 221,
      "outputs": [
        {
          "output_type": "display_data",
          "data": {
            "image/png": "[encoded data removed]",
            "text/plain": [
              "<Figure size 576x396 with 1 Axes>"
            ]
          },
          "metadata": {}
        }
      ]
    },
    {
      "cell_type": "code",
      "metadata": {
        "colab": {
          "base_uri": "https://localhost:8080/",
          "height": 563
        },
        "id": "VpgP3dcL4Udt",
        "outputId": "7eaaf88a-6af2-4015-ab3b-4a37c51f4cae"
      },
      "source": [
        "# Docentes da Rede Estadual de Ensino do Estado de SP por Região Vs Categoria\n",
        "df_doc_categ_estado.plot(x=\"REGIAO\", \n",
        "                   y=[\"PEBI_6407_EFETIVO\",\n",
        "                      \"PEBI_6407_NAO_EFETIVO\",\n",
        "                      \"PEBI_6407_TEMPORARIO\",\n",
        "                      \"PEBI_6407_AULA\",\n",
        "                      \"PEBII_6409_EFETIVO\",\n",
        "                      \"PEBII_6409_NAO_EFETIVO\",\n",
        "                      \"PEBII_6409_TEMPORARIO\",\n",
        "                      \"PROFII_6408\"], \n",
        "                   kind=\"bar\", figsize=(9,8), title=\"Docentes da Rede Estadual de Ensino do Estado de SP por Região Vs Categoria\")\n",
        "plt.show()"
      ],
      "execution_count": 222,
      "outputs": [
        {
          "output_type": "display_data",
          "data": {
            "image/png": "[encoded data removed]",
            "text/plain": [
              "<Figure size 648x576 with 1 Axes>"
            ]
          },
          "metadata": {}
        }
      ]
    },
    {
      "cell_type": "code",
      "metadata": {
        "id": "5RXn6uy17mJ0",
        "colab": {
          "base_uri": "https://localhost:8080/",
          "height": 400
        },
        "outputId": "4231a341-3b1b-4df7-f6e1-3d7838489c51"
      },
      "source": [
        "# Docentes da Rede Estadual de São Paulo na Capital\n",
        "df_graf1 = df_doc_reg_capital.groupby(df_doc_reg_capital[\"ZONA_CAPITAL\"])[\"TOTAL_DOC\"].sum() #.plot.pie()\n",
        "\n",
        "df_graf1.plot(kind='pie', subplots=True, figsize=(12,6), shadow = True, \n",
        "              ylabel='Distribuição de Docentes em Regiões da Capital', \n",
        "              title=\"Docentes da Rede Estadual de São Paulo na Capital\")\n",
        "\n",
        "plt.show()"
      ],
      "execution_count": 223,
      "outputs": [
        {
          "output_type": "display_data",
          "data": {
            "image/png": "[encoded data removed]",
            "text/plain": [
              "<Figure size 864x432 with 1 Axes>"
            ]
          },
          "metadata": {}
        }
      ]
    },
    {
      "cell_type": "markdown",
      "metadata": {
        "id": "9k9AiiphXEup"
      },
      "source": [
        "<hr size=\"3\" width=\"100%\" color=\"gray\">\n",
        "<hr size=\"1\" width=\"100%\" color=\"gray\">\n",
        "<hr size=\"3\" width=\"100%\" color=\"gray\"><br>\n",
        "\n",
        "<h3><b>Outras Referências e Descrição dos Campos da Base CSV</b></h3>\n",
        "\n",
        "<b>Referências Adicionais:</b>\n",
        "\n",
        "- https://www.educacao.sp.gov.br/a2sitebox/arquivos/documentos/874.pdf\n",
        "- https://www.educacao.sp.gov.br/conheca-a-descricao-das-siglas-mais-usadas-pelo-departamento-de-rh-da-educacao/\n",
        "- https://www.pebsp.com/categorias-de-professores-no-estado-de-sao-paulo/\n",
        "\n",
        "\n",
        "<b>Descrição dos Campos da base CSV</b>\n",
        "<table>\n",
        "   <tr>\n",
        "     <th>Campo</th>\n",
        "     <th>Descrição</th>\n",
        "   </tr>\n",
        "   <tr>\n",
        "     <td>REGIAO</td>\n",
        "     <td>REGIÕES DO ESTADO DE SÃO PAULO</td>\n",
        "   </tr>\n",
        "   <tr>\n",
        "     <td>DIRETORIA_ENSINO</td>\n",
        "     <td>DIRETORIAS DA SECRETARIA DA EDUCAÇÃO DE SÃO PAULO</td>\n",
        "   </tr>   \n",
        "   <tr>\n",
        "     <td>PEBI_6407_EFET</td>\n",
        "     <td>6407 - PROF. EDUC. BÁSICA I - CLASSE QUADRO PERMANENTE - EFETIVO</td>\n",
        "   </tr>\n",
        "   <tr>\n",
        "     <td>PEBI_6407_CAT_F</td>\n",
        "     <td>6407 - PROF. EDUC. BÁSICA I - CLASSE QUADRO PERMANENTE - CATEG. \"F\"</td>\n",
        "   </tr>\n",
        "   <tr>\n",
        "     <td>PEBI_6407_ESTVL</td>\n",
        "     <td>6407 - PROF. EDUC. BÁSICA I - CLASSE QUADRO PERMANENTE - ESTÁVEL</td>\n",
        "   </tr>\n",
        "   <tr>\n",
        "     <td>PEBI_6407_CAT_L</td>\n",
        "     <td>6407 - PROF. EDUC. BÁSICA I - CLASSE QUADRO PERMANENTE - CATEG  \"L\"</td>\n",
        "   </tr>\n",
        "   <tr>\n",
        "     <td>PEBI_6407_TOT_PER</td>\n",
        "     <td>6407 - PROF. EDUC. BÁSICA I - 1-TOTAL  PERMANENTE</td>\n",
        "   </tr>\n",
        "   <tr>\n",
        "     <td>PEBI_6407_TOT_TMP</td>\n",
        "     <td>6407 - PROF. EDUC. BÁSICA I - 2- TOTAL TEMPORÁRIO</td>\n",
        "   </tr>\n",
        "   <tr>\n",
        "     <td>PEBI_6407_TOTAL</td>\n",
        "     <td>6407 - PROF. EDUC. BÁSICA I - TOTAL PEB-I CLASSE</td>\n",
        "   </tr>\n",
        "   <tr>\n",
        "     <td>PEBI_6407_AULA_CAT_F</td>\n",
        "     <td>6407 - PROF. EDUC.  BÁSICA I - AULA - 1-TOTAL  PERMANENTE (CATEG. F)</td>\n",
        "   </tr>\n",
        "   <tr>\n",
        "     <td>PEBI_6407_AULA_TMP</td>\n",
        "     <td>6407 - PROF. EDUC.  BÁSICA I - AULA - 2- TOTAL TEMPORÁRIO</td>\n",
        "   </tr>\n",
        "   <tr>\n",
        "     <td>PEBI_6407_AULA_TOTAL</td>\n",
        "     <td>6407 - PROF. EDUC.  BÁSICA I - AULA - TOTAL PEB-I AULA</td>\n",
        "   </tr>\n",
        "   <tr>\n",
        "     <td>PEBII_6409_EFET</td>\n",
        "     <td>6409 - PROF. EDUC. BÁSICA II - QUADRO PERMANENTE - EFETIVO</td>\n",
        "   </tr>\n",
        "   <tr>\n",
        "     <td>PEBII_6409_CAT_F</td>\n",
        "     <td>6409 - PROF. EDUC. BÁSICA II - QUADRO PERMANENTE - CATEG. \"F\"</td>\n",
        "   </tr>\n",
        "   <tr>\n",
        "     <td>PEBII_6409_EST</td>\n",
        "     <td>6409 - PROF. EDUC. BÁSICA II - QUADRO PERMANENTE - ESTÁVEL</td>\n",
        "   </tr>\n",
        "   <tr>\n",
        "     <td>PEBII_6409_CLT</td>\n",
        "     <td>6409 - PROF. EDUC. BÁSICA II - QUADRO PERMANENTE - C.L.T.</td>\n",
        "   </tr>\n",
        "   <tr>\n",
        "     <td>PEBII_6409_TOT_PER</td>\n",
        "     <td>6409 - PROF. EDUC. BÁSICA II - 1-TOTAL  PERMANENTE</td>\n",
        "   </tr>\n",
        "   <tr>\n",
        "     <td>PEBII_6409_TOT_TMP</td>\n",
        "     <td>6409 - PROF. EDUC. BÁSICA II - 2- TOTAL TEMPORÁRIO</td>\n",
        "   </tr>\n",
        "   <tr>\n",
        "     <td>PEBII_6409_TOTAL</td>\n",
        "     <td>6409 - PROF. EDUC. BÁSICA II - TOTAL PEB -II</td>\n",
        "   </tr>\n",
        "   <tr>\n",
        "     <td>PROFII_6408_CAT_F</td>\n",
        "     <td>6408 - PROFESSOR II -  QUADRO PERMANENTE - CATEG 'F'</td>\n",
        "   </tr>\n",
        "   <tr>\n",
        "     <td>PROFII_6408_ESTVL</td>\n",
        "     <td>6408 - PROFESSOR II -  QUADRO PERMANENTE - ESTÁVEL</td>\n",
        "   </tr>\n",
        "   <tr>\n",
        "     <td>PROFII_6408_TOTAL</td>\n",
        "     <td>6408 - PROFESSOR II - TOTAL PROF. II</td>\n",
        "   </tr>\n",
        "   <tr>\n",
        "     <td>TOTAL_DOC</td>\n",
        "     <td>TOTAL DOCENTES</td>\n",
        "   </tr>\n",
        "</table>"
      ]
    }
  ]
}